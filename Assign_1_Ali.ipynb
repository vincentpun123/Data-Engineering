{
 "cells": [
  {
   "cell_type": "code",
   "execution_count": 2,
   "metadata": {
    "collapsed": true
   },
   "outputs": [],
   "source": [
    "#Import Packages\n",
    "import random\n",
    "import datetime\n",
    "import time\n",
    "import pandas as pd\n",
    "from matplotlib import pyplot as plt\n",
    "%matplotlib inline\n",
    "SEED = 213"
   ]
  },
  {
   "cell_type": "code",
   "execution_count": 3,
   "metadata": {
    "collapsed": true
   },
   "outputs": [],
   "source": [
    "# Bhargava's binary search\n",
    "def binary_search(mylist, item):\n",
    "    start_time = (datetime.datetime.now())\n",
    "    low = 0\n",
    "    high =len(mylist) - 1 \n",
    "    count = 0\n",
    "    while low <= high:\n",
    "        mid = (low + high)\n",
    "        guess = mylist[mid]\n",
    "        if guess == item:\n",
    "            return mid\n",
    "        if guess > item:\n",
    "            high = mid - 1\n",
    "        else:\n",
    "            low = mid + 1\n",
    "        count+=1\n",
    "    return None\n"
   ]
  },
  {
   "cell_type": "code",
   "execution_count": 4,
   "metadata": {
    "collapsed": true
   },
   "outputs": [],
   "source": [
    "# linear search\n",
    "def linear_search(mylist, item):\n",
    "    for i in range(len(mylist)):\n",
    "        if mylist[i]==item:\n",
    "            return i\n",
    "    return None\n"
   ]
  },
  {
   "cell_type": "code",
   "execution_count": 5,
   "metadata": {
    "collapsed": true
   },
   "outputs": [],
   "source": [
    "# generate list of specified length using constant random seed\n",
    "def generate_list(length):\n",
    "    returnable_list = []\n",
    "    random.seed(SEED)\n",
    "    for i in range(0, length):\n",
    "        returnable_list.append(random.randint(0, 1000))\n",
    "    return returnable_list\n"
   ]
  },
  {
   "cell_type": "code",
   "execution_count": 6,
   "metadata": {
    "collapsed": true
   },
   "outputs": [],
   "source": [
    "#create random lists.  I've multiplied list length by 1000 to return results greater than 0.0000\n",
    "random_lists = []\n",
    "random_lists.append(generate_list(512 * 1000))\n",
    "random_lists.append(generate_list(1024 * 1000))\n",
    "random_lists.append(generate_list(2048 * 1000))\n",
    "random_lists.append(generate_list(4096 * 1000))\n",
    "random_lists.append(generate_list(8192 * 1000))"
   ]
  },
  {
   "cell_type": "code",
   "execution_count": 7,
   "metadata": {
    "collapsed": true
   },
   "outputs": [],
   "source": [
    "returnable = []\n",
    "for i in range(0, 100):\n",
    "    returnable.append(random.randint(0,1000))"
   ]
  },
  {
   "cell_type": "code",
   "execution_count": 8,
   "metadata": {
    "collapsed": true
   },
   "outputs": [],
   "source": [
    "# arrays to store sort time, linear search time, and binary search time\n",
    "sort_times = []\n",
    "linear_times = []\n",
    "binary_times = []\n",
    "\n",
    "for list_item in random_lists:\n",
    "    start_time = (datetime.datetime.now())\n",
    "    list_item.sort()\n",
    "    sort_times.append((datetime.datetime.now() - start_time).\n",
    "                      total_seconds() * 1000)\n",
    "    \n",
    "    linear_start = datetime.datetime.now()\n",
    "    linear_search(list_item, list_item[-1])\n",
    "    linear_times.append((datetime.datetime.now() - linear_start).\n",
    "                      total_seconds() * 1000)\n",
    "    \n",
    "    binary_start = datetime.datetime.now()\n",
    "    binary_search(list_item, list_item[-1])\n",
    "    binary_times.append((datetime.datetime.now() - binary_start)\n",
    "                        .total_seconds() * 1000)\n"
   ]
  },
  {
   "cell_type": "code",
   "execution_count": 9,
   "metadata": {
    "collapsed": true
   },
   "outputs": [],
   "source": [
    "array_length = []\n",
    "for l in range(len(random_lists)):\n",
    "    array_length.append(len(random_lists[l]))\n"
   ]
  },
  {
   "cell_type": "code",
   "execution_count": 10,
   "metadata": {
    "collapsed": true
   },
   "outputs": [],
   "source": [
    "#Define dataframe with array length, sort time, linear search, and binary search\n",
    "time_df = {'array length':array_length,\n",
    "          'sort time': sort_times,\n",
    "          'linear search': linear_times,\n",
    "          'binary search': binary_times}\n",
    "time_df = pd.DataFrame(data=time_df)"
   ]
  },
  {
   "cell_type": "code",
   "execution_count": 11,
   "metadata": {},
   "outputs": [
    {
     "data": {
      "text/html": [
       "<div>\n",
       "<style>\n",
       "    .dataframe thead tr:only-child th {\n",
       "        text-align: right;\n",
       "    }\n",
       "\n",
       "    .dataframe thead th {\n",
       "        text-align: left;\n",
       "    }\n",
       "\n",
       "    .dataframe tbody tr th {\n",
       "        vertical-align: top;\n",
       "    }\n",
       "</style>\n",
       "<table border=\"1\" class=\"dataframe\">\n",
       "  <thead>\n",
       "    <tr style=\"text-align: right;\">\n",
       "      <th></th>\n",
       "      <th>array length</th>\n",
       "      <th>binary search</th>\n",
       "      <th>linear search</th>\n",
       "      <th>sort time</th>\n",
       "      <th>total linear</th>\n",
       "      <th>total binary</th>\n",
       "    </tr>\n",
       "  </thead>\n",
       "  <tbody>\n",
       "    <tr>\n",
       "      <th>0</th>\n",
       "      <td>512000</td>\n",
       "      <td>0.0</td>\n",
       "      <td>186.903</td>\n",
       "      <td>954.606</td>\n",
       "      <td>1141.509</td>\n",
       "      <td>954.606</td>\n",
       "    </tr>\n",
       "    <tr>\n",
       "      <th>1</th>\n",
       "      <td>1024000</td>\n",
       "      <td>0.0</td>\n",
       "      <td>239.382</td>\n",
       "      <td>843.357</td>\n",
       "      <td>1082.739</td>\n",
       "      <td>843.357</td>\n",
       "    </tr>\n",
       "    <tr>\n",
       "      <th>2</th>\n",
       "      <td>2048000</td>\n",
       "      <td>0.0</td>\n",
       "      <td>564.031</td>\n",
       "      <td>1888.447</td>\n",
       "      <td>2452.478</td>\n",
       "      <td>1888.447</td>\n",
       "    </tr>\n",
       "    <tr>\n",
       "      <th>3</th>\n",
       "      <td>4096000</td>\n",
       "      <td>0.0</td>\n",
       "      <td>1050.340</td>\n",
       "      <td>3264.909</td>\n",
       "      <td>4315.249</td>\n",
       "      <td>3264.909</td>\n",
       "    </tr>\n",
       "    <tr>\n",
       "      <th>4</th>\n",
       "      <td>8192000</td>\n",
       "      <td>0.0</td>\n",
       "      <td>2346.875</td>\n",
       "      <td>7863.059</td>\n",
       "      <td>10209.934</td>\n",
       "      <td>7863.059</td>\n",
       "    </tr>\n",
       "  </tbody>\n",
       "</table>\n",
       "</div>"
      ],
      "text/plain": [
       "   array length  binary search  linear search  sort time  total linear  \\\n",
       "0        512000            0.0        186.903    954.606      1141.509   \n",
       "1       1024000            0.0        239.382    843.357      1082.739   \n",
       "2       2048000            0.0        564.031   1888.447      2452.478   \n",
       "3       4096000            0.0       1050.340   3264.909      4315.249   \n",
       "4       8192000            0.0       2346.875   7863.059     10209.934   \n",
       "\n",
       "   total binary  \n",
       "0       954.606  \n",
       "1       843.357  \n",
       "2      1888.447  \n",
       "3      3264.909  \n",
       "4      7863.059  "
      ]
     },
     "execution_count": 11,
     "metadata": {},
     "output_type": "execute_result"
    }
   ],
   "source": [
    "# Calculate combined search and sort execution times, and add to dataframe\n",
    "time_df['total linear'] = time_df['sort time'] + time_df['linear search']\n",
    "time_df['total binary'] = time_df['sort time'] + time_df['binary search']\n",
    "time_df\n"
   ]
  },
  {
   "cell_type": "code",
   "execution_count": 12,
   "metadata": {},
   "outputs": [
    {
     "data": {
      "text/plain": [
       "Text(0.5,1,'Fig 1: Execution Time by Search Type')"
      ]
     },
     "execution_count": 12,
     "metadata": {},
     "output_type": "execute_result"
    },
    {
     "data": {
      "image/png": "[encoded data removed]",
      "text/plain": [
       "<matplotlib.figure.Figure at 0x1bd5c427fd0>"
      ]
     },
     "metadata": {},
     "output_type": "display_data"
    }
   ],
   "source": [
    "#plot results without sort time\n",
    "plt.scatter(time_df['array length'], [time_df['linear search']])\n",
    "plt.scatter(time_df['array length'], [time_df['binary search']])\n",
    "plt.legend(('linear search', 'binary search'))\n",
    "plt.xticks(time_df['array length'], rotation=-45)\n",
    "plt.ylabel('Execution time (ms)')\n",
    "plt.xlabel('List length')\n",
    "plt.title('Fig 1: Execution Time by Search Type')\n"
   ]
  },
  {
   "cell_type": "code",
   "execution_count": 13,
   "metadata": {},
   "outputs": [
    {
     "data": {
      "text/plain": [
       "Text(0.5,1,'Fig 2: Execution Time by Search Type (Sort Time Included)')"
      ]
     },
     "execution_count": 13,
     "metadata": {},
     "output_type": "execute_result"
    },
    {
     "data": {
      "image/png": "[encoded data removed]",
      "text/plain": [
       "<matplotlib.figure.Figure at 0x1bd038bf7b8>"
      ]
     },
     "metadata": {},
     "output_type": "display_data"
    }
   ],
   "source": [
    "#plot results with sort time\n",
    "plt.scatter(time_df['array length'], [time_df['total linear']])\n",
    "plt.scatter(time_df['array length'], [time_df['total binary']])\n",
    "plt.legend(('sort + linear search',\n",
    "            'sort + binary search'))\n",
    "plt.xticks(time_df['array length'], rotation=-45)\n",
    "plt.ylabel('Execution time (ms)')\n",
    "plt.xlabel('List length')\n",
    "plt.title('Fig 2: Execution Time by Search Type (Sort Time Included)')"
   ]
  },
  {
   "cell_type": "code",
   "execution_count": null,
   "metadata": {
    "collapsed": true
   },
   "outputs": [],
   "source": []
  }
 ],
 "metadata": {
  "kernelspec": {
   "display_name": "Python 3",
   "language": "python",
   "name": "python3"
  },
  "language_info": {
   "codemirror_mode": {
    "name": "ipython",
    "version": 3
   },
   "file_extension": ".py",
   "mimetype": "text/x-python",
   "name": "python",
   "nbconvert_exporter": "python",
   "pygments_lexer": "ipython3",
   "version": "3.7.3"
  }
 },
 "nbformat": 4,
 "nbformat_minor": 2
}
