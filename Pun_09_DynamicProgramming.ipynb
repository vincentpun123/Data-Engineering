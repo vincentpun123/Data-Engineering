{
 "metadata": {
  "language_info": {
   "codemirror_mode": {
    "name": "ipython",
    "version": 3
   },
   "file_extension": ".py",
   "mimetype": "text/x-python",
   "name": "python",
   "nbconvert_exporter": "python",
   "pygments_lexer": "ipython3",
   "version": "3.8.3-final"
  },
  "orig_nbformat": 2,
  "kernelspec": {
   "name": "python38364bit28c7afb0fc794b32845c6356447d60eb",
   "display_name": "Python 3.8.3 64-bit"
  }
 },
 "nbformat": 4,
 "nbformat_minor": 2,
 "cells": [
  {
   "source": [
    "Module 9 - Mini Programming Assignment: Implement Dynamic Programming<br>\n",
    "MSDS 432<br>\n",
    "Vincent Pun"
   ],
   "cell_type": "markdown",
   "metadata": {}
  },
  {
   "cell_type": "code",
   "execution_count": 11,
   "metadata": {},
   "outputs": [
    {
     "output_type": "execute_result",
     "data": {
      "text/plain": [
       "'/Users/vincentpun/Documents/GitHub/MSDS-432'"
      ]
     },
     "metadata": {},
     "execution_count": 11
    }
   ],
   "source": [
    "os.getcwd()"
   ]
  },
  {
   "source": [
    "In this exercise, we will begin to explore the concept of dynamic programming and how it related to various object containers with respect to computational complexity.  \n",
    "<br>\n",
    "For this week's assignment, we will being doing things a little differently\n",
    "<br>\n",
    "Go to this website and choose one of the Top 20 Dynamic Programming Interview Questions for this assignment.  https://www.geeksforgeeks.org/top-20-dynamic-programming-interview-questions/ \n",
    "\n",
    "<br>\n",
    "Implement the Dynamic Programming algorithm in Python (it's ok to use the code that's on the webpage) and use it to solve a range of scenarios.  \n",
    "\n",
    "<Br>\n",
    "Make sure you are using a Dynamic Programming solution (not another one)\n",
    "Explain what is being done in the implementation.  That is, write up a walk through of the algorithm and explain how it is a Dynamic Programming solution."
   ],
   "cell_type": "markdown",
   "metadata": {}
  },
  {
   "source": [
    "**Longest Increasing Subsequence | DP-3**"
   ],
   "cell_type": "markdown",
   "metadata": {}
  },
  {
   "source": [
    "We have already discussed Overlapping Subproblems and Optimal Substructure properties.\n",
    "\n",
    "Now, let us discuss the Longest Increasing Subsequence (LIS) problem as an example problem that can be solved using Dynamic Programming.\n",
    "The Longest Increasing Subsequence (LIS) problem is to find the length of the longest subsequence of a given sequence such that all elements of the subsequence are sorted in increasing order. For example, the length of LIS for {10, 22, 9, 33, 21, 50, 41, 60, 80} is 6 and LIS is {10, 22, 33, 50, 60, 80}."
   ],
   "cell_type": "markdown",
   "metadata": {}
  },
  {
   "source": [
    "**Function**"
   ],
   "cell_type": "markdown",
   "metadata": {}
  },
  {
   "cell_type": "code",
   "execution_count": 5,
   "metadata": {},
   "outputs": [
    {
     "output_type": "stream",
     "name": "stdout",
     "text": [
      "Length of lis is 5\n"
     ]
    }
   ],
   "source": [
    "\n",
    "# Dynamic programming Python implementation \n",
    "# of LIS problem \n",
    "  \n",
    "# lis returns length of the longest  \n",
    "# increasing subsequence in arr of size n \n",
    "def lis(arr): \n",
    "    n = len(arr) \n",
    "  \n",
    "    # Declare the list (array) for LIS and  \n",
    "    # initialize LIS values for all indexes \n",
    "    lis = [1]*n \n",
    "  \n",
    "    # Compute optimized LIS values in bottom up manner \n",
    "    for i in range (1 , n): #i starts at 1\n",
    "        for j in range(0 , i): #j starts at 0 (so that it precedes i)\n",
    "            if arr[i] > arr[j] and lis[i]< lis[j] + 1 : \n",
    "                lis[i] = lis[j]+1 #update lis[i] \n",
    "  \n",
    "    # Initialize maximum to 0 to get  \n",
    "    # the maximum of all LIS \n",
    "    maximum = 0\n",
    "  \n",
    "    # Pick maximum of all LIS values \n",
    "    #maximum number is updated iteratively for all values in the arr\n",
    "    for i in range(n): \n",
    "        maximum = max(maximum , lis[i]) \n",
    "  \n",
    "    return maximum \n",
    "# end of lis function \n",
    "  \n",
    "# Driver program to test above function \n",
    "arr = [10, 22, 9, 33, 21, 50, 41, 60] \n",
    "print(\"Length of lis is\", lis(arr))\n",
    "\n",
    "#https://www.geeksforgeeks.org/longest-increasing-subsequence-dp-3/\n",
    "\n",
    "#Guidance from Video:\n",
    "#https://www.youtube.com/watch?v=Ns4LCeeOFS4&feature=emb_logo\n",
    "\n",
    "# This code is contributed by Nikhil Kumar Singh \n",
    "\n"
   ]
  },
  {
   "source": [
    "**Algorithm Explained**"
   ],
   "cell_type": "markdown",
   "metadata": {}
  },
  {
   "source": [
    "In the Longest Increasing Subsequence problem, we arrive at a solution utilizing dynamic programming. Our goal is to **optimize** the length of \"lis\" by maximizing the value. \n",
    "\n",
    "The object lis is equal the length of the longest subsequence of a given sequence such that all elements are sorted in increasing order, which is the **constraint.**\n",
    "\n",
    "To solve this problem with dynamic programing, the problem is broken into discrete subproblems, which compare the maximum value of the array at each index. "
   ],
   "cell_type": "markdown",
   "metadata": {}
  },
  {
   "cell_type": "code",
   "execution_count": 29,
   "metadata": {},
   "outputs": [
    {
     "output_type": "display_data",
     "data": {
      "image/png": "[encoded data removed]",
      "text/plain": "<IPython.core.display.Image object>"
     },
     "metadata": {}
    }
   ],
   "source": [
    "from IPython.display import Image, display\n",
    "display(Image(filename='/Users/vincentpun/Downloads/Screen Shot 2020-11-10 at 11.24.43 PM.png'))"
   ]
  },
  {
   "source": [
    "**Step 1:** <br>\n",
    "<br>\n",
    "The function begins with defining the object n as the lengh of the array (that the user enters into the function). <br>\n",
    "<br>\n",
    "n is then used to initialize LIS values for all indexes. The default value for lis is 1 becuase each value in the array creates a longest sequence of 1 by itself regardless of its neighboring values."
   ],
   "cell_type": "markdown",
   "metadata": {}
  },
  {
   "cell_type": "code",
   "execution_count": 34,
   "metadata": {},
   "outputs": [],
   "source": [
    "arr = [10, 22, 9, 33, 21, 50, 41, 60] \n",
    "n = len(arr) \n",
    "  \n",
    "    # Declare the list (array) for LIS and  \n",
    "    # initialize LIS values for all indexes \n",
    "lis = [1]*n \n",
    " "
   ]
  },
  {
   "source": [],
   "cell_type": "markdown",
   "metadata": {}
  },
  {
   "source": [
    "**Step 2:**<br>\n",
    "<br>\n",
    "In this next step, a FOR loop is used from range 1 to the lengh of the array to compare to a FOR loop used from range 0 to the current iteration. <br>\n",
    "\n",
    "For each value in arr, we explore whether the value is greater than the numbers preceding it. If yes, then the value of LIS for that value in the array is equal to the value of LIS for arr[j] plus 1. <br>\n",
    "<br>\n",
    "This function is dynamic because it breaks the problem down per array position, and it determines the total number of smaller values preceding it. The vales in the cells are what we are trying to optimize.  "
   ],
   "cell_type": "markdown",
   "metadata": {}
  },
  {
   "cell_type": "code",
   "execution_count": 35,
   "metadata": {},
   "outputs": [
    {
     "output_type": "execute_result",
     "data": {
      "text/plain": [
       "[1, 2, 1, 3, 2, 4, 4, 5]"
      ]
     },
     "metadata": {},
     "execution_count": 35
    }
   ],
   "source": [
    "# Compute optimized LIS values in bottom up manner \n",
    "for i in range (1 , n): \n",
    "    for j in range(0 , i): \n",
    "        if arr[i] > arr[j] and lis[i]< lis[j] + 1 : \n",
    "            lis[i] = lis[j]+1\n",
    "\n",
    "lis"
   ]
  },
  {
   "source": [
    "**Step 3:**<br>\n",
    "<br>\n",
    "After the for loop of i and its nested for loop of j are complete, an object called maximum is initialized. A FOR loop is used to iterate through LIS to find the maximum value in this list. "
   ],
   "cell_type": "markdown",
   "metadata": {}
  },
  {
   "cell_type": "code",
   "execution_count": 36,
   "metadata": {},
   "outputs": [
    {
     "output_type": "execute_result",
     "data": {
      "text/plain": [
       "5"
      ]
     },
     "metadata": {},
     "execution_count": 36
    }
   ],
   "source": [
    "# Initialize maximum to 0 to get  \n",
    "# the maximum of all LIS \n",
    "maximum = 0\n",
    "\n",
    "# Pick maximum of all LIS values \n",
    "for i in range(n): \n",
    "    maximum = max(maximum , lis[i]) \n",
    "\n",
    "maximum\n",
    "# end of lis function \n",
    "\n"
   ]
  },
  {
   "source": [
    "**Executive Summary**"
   ],
   "cell_type": "markdown",
   "metadata": {}
  },
  {
   "source": [
    "Prepare an executive summary of your results, referring to the table and figures you have generated. Explain how your results relate to big O notation. Describe your results in language that management can understand. This summary should be included as text paragraphs in the Jupyter notebook.  Explain how the algorithm works and why it is a useful to data engineers.\n",
    "<br>\n",
    "Program code should conform to best practices in software development, as described in the coding/software development textbook used in the course.\n",
    "\n",
    "Continue using your git repository."
   ],
   "cell_type": "markdown",
   "metadata": {}
  },
  {
   "source": [
    "**Time Complexity of Solution:** O(n^2)<br>\n",
    "<br>\n",
    "**Reason:** The function used in this exercise represents O(n^2) complexity because its number of operations is equal to the square of the input (array) size. There is a nested iteration (FOR loop within a FOR loop). This makes sense because in dynamic programming, algorithms create grids to optimize subproblems (cells within the grid), and n^2 suggests that we are creatin ga square based on the size of the array)."
   ],
   "cell_type": "markdown",
   "metadata": {}
  },
  {
   "source": [
    "In this assignment, we implement dynamic programming techniques to optimize a problem given a constraint. Our goal is to find the maximum subsequence of increasing numbers within any array. To break this problem down into discrete subproblems, we nest iterative operations to see whether values within the array are greater than its preceding values. As mentioned above, this algorithm requires a time complexity of O(n^2), which is more efficient than alternative approaches such as applying recursion. Overall, this solution is clean and efficient, as we are simply finding optimal values within a grid to store maximum LIS values at each index. "
   ],
   "cell_type": "markdown",
   "metadata": {}
  },
  {
   "cell_type": "code",
   "execution_count": null,
   "metadata": {},
   "outputs": [],
   "source": []
  }
 ]
}