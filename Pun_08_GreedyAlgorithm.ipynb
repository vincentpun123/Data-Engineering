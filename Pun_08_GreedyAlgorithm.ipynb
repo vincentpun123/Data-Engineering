{
 "metadata": {
  "language_info": {
   "codemirror_mode": {
    "name": "ipython",
    "version": 3
   },
   "file_extension": ".py",
   "mimetype": "text/x-python",
   "name": "python",
   "nbconvert_exporter": "python",
   "pygments_lexer": "ipython3",
   "version": "3.8.3-final"
  },
  "orig_nbformat": 2,
  "kernelspec": {
   "name": "python38364bit28c7afb0fc794b32845c6356447d60eb",
   "display_name": "Python 3.8.3 64-bit"
  }
 },
 "nbformat": 4,
 "nbformat_minor": 2,
 "cells": [
  {
   "source": [
    "MSDS 432 - Mini Programming Assignment 8 <br>\n",
    "Prepared by Vincent Pun"
   ],
   "cell_type": "markdown",
   "metadata": {}
  },
  {
   "source": [
    "In this exercise, we will begin to explore greedy algorithms and NP complete problems.  The base code for Chapter 8 of Grokking Algorithms (Bhargava 2016) is located here:  https://github.com/egonSchiele/grokking_algorithms/tree/master/08_greedy_algorithms/python"
   ],
   "cell_type": "markdown",
   "metadata": {}
  },
  {
   "cell_type": "code",
   "execution_count": 3,
   "metadata": {},
   "outputs": [],
   "source": [
    "# To support both python 2 and python 3\n",
    "from __future__ import division, print_function, unicode_literals\n",
    "\n",
    "# Common imports\n",
    "import numpy as np\n",
    "import pandas as pd\n",
    "import os, time, string, random\n",
    "\n",
    "# To plot pretty figures\n",
    "%matplotlib inline\n",
    "import matplotlib as mpl\n",
    "import matplotlib.pyplot as plt\n",
    "\n",
    "mpl.rc('axes', labelsize=10)\n",
    "mpl.rc('xtick', labelsize=10)\n",
    "mpl.rc('ytick', labelsize=10)\n",
    "\n",
    "# set up notebook to display multiple output in one cell\n",
    "from IPython.core.interactiveshell import InteractiveShell\n",
    "InteractiveShell.ast_node_interactivity = \"all\"\n",
    "\n",
    "pd.set_option('display.max_columns', None)  \n",
    "pd.set_option('display.expand_frame_repr', False)"
   ]
  },
  {
   "source": [
    "**Example Code - Grokking Algorithms**"
   ],
   "cell_type": "markdown",
   "metadata": {}
  },
  {
   "cell_type": "code",
   "execution_count": 4,
   "metadata": {},
   "outputs": [
    {
     "output_type": "stream",
     "name": "stdout",
     "text": [
      "{'kthree', 'ktwo', 'kone', 'kfive'}\n"
     ]
    }
   ],
   "source": [
    "# You pass an array in, and it gets converted to a set.\n",
    "states_needed = set([\"mt\", \"wa\", \"or\", \"id\", \"nv\", \"ut\", \"ca\", \"az\"])\n",
    "\n",
    "stations = {}\n",
    "stations[\"kone\"] = set([\"id\", \"nv\", \"ut\"])\n",
    "stations[\"ktwo\"] = set([\"wa\", \"id\", \"mt\"])\n",
    "stations[\"kthree\"] = set([\"or\", \"nv\", \"ca\"])\n",
    "stations[\"kfour\"] = set([\"nv\", \"ut\"])\n",
    "stations[\"kfive\"] = set([\"ca\", \"az\"])\n",
    "\n",
    "final_stations = set()\n",
    "\n",
    "while states_needed:\n",
    "  best_station = None\n",
    "  states_covered = set()\n",
    "  for station, states_for_station in stations.items():\n",
    "    covered = states_needed & states_for_station\n",
    "    if len(covered) > len(states_covered):\n",
    "      best_station = station\n",
    "      states_covered = covered\n",
    "\n",
    "  states_needed -= states_covered\n",
    "  final_stations.add(best_station)\n",
    "\n",
    "print(final_stations)"
   ]
  },
  {
   "source": [
    "Please use a greedy algorithm to solve this week's assignment. There are many ways to solve any problem so whatever solution seems appropriate to you for this week, utilize it and then explain your reasons for choosing it.  <br>\n",
    "Greedy algorithms is just a concept, there is no particular algorithm that is called 'greedy algorithm', rather many of the existing algorithms use 'greedy' technique, for example, <br>\n",
    "Breadth-first search and Dijkstra’s algorithm are some examples of greedy algorithms<Br>\n",
    "<br>\n",
    "A greedy algorithm is any algorithm that follows the problem-solving heuristic of making the locally optimal choice at each stage."
   ],
   "cell_type": "markdown",
   "metadata": {}
  },
  {
   "source": [
    "**Facts**"
   ],
   "cell_type": "markdown",
   "metadata": {}
  },
  {
   "source": [
    "1. Assume you run a small security company that provides physical security services in the area and you recently won a new contract in the area to provide 24x7 security to a small building under construction.  <br>\n",
    "<br>\n",
    "For simplicity we will design the solution for only **24 hours**, but if you want to go above and beyond, feel free to write code that handles the 24x7 scenario as well.<br>\n",
    "<br>\n",
    "2. You have **6 security guards available at the moment** who you can assign to this building but your goal is to make **more money out of this contract and spend less in wages (hence greedy!)**<br>\n",
    "<br>\n",
    "3. The cost/wage structure is as follows:<Br>\n",
    "<br>\n",
    "People **working less than or equal to 8 hours will be paid $15/hr**<br>\n",
    "<br>\n",
    "Anyone **working overtime (>8 hours) will be paid an additional $5, i.e. $20/hr**"
   ],
   "cell_type": "markdown",
   "metadata": {}
  },
  {
   "source": [
    "4. Create a greedy algorithm (come up with any algorithm of your own) that finds you the most **cost effective solution**<br>\n",
    "<br>\n",
    " e.g. Should we appoint **2 security guards for 12 hours each? Or 3 of them for 8 hours each? Or 4 for 6 hours each? Or all 6 for 4 hours each? Or any other combination?**<br>\n",
    " <br>\n",
    " Write the greedy algorithm, run it, and record the solution that your algorithm produces.  Please answer the following questions regarding your solution:\n",
    "\n"
   ],
   "cell_type": "markdown",
   "metadata": {}
  },
  {
   "cell_type": "code",
   "execution_count": 55,
   "metadata": {},
   "outputs": [
    {
     "output_type": "execute_result",
     "data": {
      "text/plain": [
       "  Employee Name  Hours Assigned  Labor Cost Overtime Pay\n",
       "0      Worker_1             4.0        60.0           no\n",
       "1      Worker_2             4.0        60.0           no\n",
       "2      Worker_3             4.0        60.0           no\n",
       "3      Worker_4             4.0        60.0           no\n",
       "4      Worker_5             4.0        60.0           no\n",
       "5      Worker_6             4.0        60.0           no"
      ],
      "text/html": "<div>\n<style scoped>\n    .dataframe tbody tr th:only-of-type {\n        vertical-align: middle;\n    }\n\n    .dataframe tbody tr th {\n        vertical-align: top;\n    }\n\n    .dataframe thead th {\n        text-align: right;\n    }\n</style>\n<table border=\"1\" class=\"dataframe\">\n  <thead>\n    <tr style=\"text-align: right;\">\n      <th></th>\n      <th>Employee Name</th>\n      <th>Hours Assigned</th>\n      <th>Labor Cost</th>\n      <th>Overtime Pay</th>\n    </tr>\n  </thead>\n  <tbody>\n    <tr>\n      <th>0</th>\n      <td>Worker_1</td>\n      <td>4.0</td>\n      <td>60.0</td>\n      <td>no</td>\n    </tr>\n    <tr>\n      <th>1</th>\n      <td>Worker_2</td>\n      <td>4.0</td>\n      <td>60.0</td>\n      <td>no</td>\n    </tr>\n    <tr>\n      <th>2</th>\n      <td>Worker_3</td>\n      <td>4.0</td>\n      <td>60.0</td>\n      <td>no</td>\n    </tr>\n    <tr>\n      <th>3</th>\n      <td>Worker_4</td>\n      <td>4.0</td>\n      <td>60.0</td>\n      <td>no</td>\n    </tr>\n    <tr>\n      <th>4</th>\n      <td>Worker_5</td>\n      <td>4.0</td>\n      <td>60.0</td>\n      <td>no</td>\n    </tr>\n    <tr>\n      <th>5</th>\n      <td>Worker_6</td>\n      <td>4.0</td>\n      <td>60.0</td>\n      <td>no</td>\n    </tr>\n  </tbody>\n</table>\n</div>"
     },
     "metadata": {},
     "execution_count": 55
    }
   ],
   "source": [
    "\n",
    "#if work <= 8 then pay = 15, else 20 \n",
    "\n",
    "def schedule(num_employees, hours_needed):\n",
    "    \n",
    "    hours_assigned = np.zeros(num_employees)\n",
    "    need = hours_needed\n",
    "    n = 0\n",
    "\n",
    "    while need > 0:\n",
    "        hours_assigned[n] += 1\n",
    "        need -= 1\n",
    "        n = (n + 1) % num_employees \n",
    "    \n",
    "    emp_name = []\n",
    "    \n",
    "    for i in range(num_employees):\n",
    "        name = 'Worker_'+str(i+1)\n",
    "        emp_name.append(name)\n",
    "        \n",
    "\n",
    "    return hours_assigned, emp_name\n",
    "    \n",
    "schedule = schedule(6,24)\n",
    "\n",
    "df = pd.DataFrame(list(zip(schedule[1],schedule[0])), columns = ['Employee Name','Hours Assigned'])\n",
    "\n",
    "#LABOR COST\n",
    "#https://www.dataquest.io/blog/tutorial-add-column-pandas-dataframe-based-on-if-else-condition/\n",
    "conditions_LC = [(df['Hours Assigned'] <= 8), \n",
    "              (df['Hours Assigned'] > 8)]\n",
    "\n",
    "values_LC = [(df['Hours Assigned'] * 15), \n",
    "          ((8*15) + ((df['Hours Assigned'] - 8)*20))]\n",
    "\n",
    "df['Labor Cost'] = np.select(conditions_LC, values_LC)\n",
    "\n",
    "#PAID OVERTIME y/n\n",
    "conditions_OT = [(df['Hours Assigned'] <= 8), \n",
    "              (df['Hours Assigned'] > 8)]\n",
    "\n",
    "values_OT = ['no','yes']\n",
    "\n",
    "df['Overtime Pay'] = np.select(conditions_OT, values_OT)\n",
    "\n",
    "df"
   ]
  },
  {
   "source": [
    "Explain your algorithm in detail.  <br>\n",
    "<br>\n",
    "How is it greedy? <br>\n",
    "<br>\n",
    "What is the complexity of your solution?<br>\n",
    "<br>\n",
    "Did the greedy algorithm provide the best solution or could there be an alternative/better solution to your problem?  <br>\n",
    "Why or why not?<br>\n",
    "<br>\n",
    "If the scenario had different values for the inputs would your algorithm still be successful?  <br>\n",
    "Eg. more than 24 hours, higher overtime, shorter shifts, or values that don't factor so nicely.  <br>\n",
    "Why or why not? <br> \n",
    "<br>\n",
    "What things would change the optimal output?<br>\n",
    "<br>\n",
    "If you were not constrained to a greedy algorithm, what approaches would you take to solve the problem?  <br>\n",
    "\n",
    "\n"
   ],
   "cell_type": "markdown",
   "metadata": {}
  },
  {
   "cell_type": "code",
   "execution_count": null,
   "metadata": {},
   "outputs": [],
   "source": []
  },
  {
   "source": [
    "**Executive Summary**"
   ],
   "cell_type": "markdown",
   "metadata": {}
  },
  {
   "source": [
    "Prepare an executive summary of your results, referring to the table and figures you have generated. Explain how your results relate to big O notation. Describe your results in language that management can understand. This summary should be included as text paragraphs in the Jupyter notebook. Explain how the algorithm works and why it is a useful to data engineers."
   ],
   "cell_type": "markdown",
   "metadata": {}
  },
  {
   "cell_type": "code",
   "execution_count": null,
   "metadata": {},
   "outputs": [],
   "source": []
  }
 ]
}