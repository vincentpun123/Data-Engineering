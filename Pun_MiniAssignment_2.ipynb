{
 "metadata": {
  "language_info": {
   "codemirror_mode": {
    "name": "ipython",
    "version": 3
   },
   "file_extension": ".py",
   "mimetype": "text/x-python",
   "name": "python",
   "nbconvert_exporter": "python",
   "pygments_lexer": "ipython3",
   "version": "3.8.3-final"
  },
  "orig_nbformat": 2,
  "kernelspec": {
   "name": "Python 3.8.3 64-bit",
   "display_name": "Python 3.8.3 64-bit",
   "metadata": {
    "interpreter": {
     "hash": "082e9a3bcad0a290d0001e938aa60b99250c6c2ef33a923c00b70f9826caf4b7"
    }
   }
  }
 },
 "nbformat": 4,
 "nbformat_minor": 2,
 "cells": [
  {
   "source": [
    "MSDS 432 Mini Assignment 2\n",
    "\n",
    "\n",
    "Prepared by Vincent Pun"
   ],
   "cell_type": "markdown",
   "metadata": {}
  },
  {
   "source": [
    "# To support both python 2 and python 3\n",
    "from __future__ import division, print_function, unicode_literals\n",
    "\n",
    "# Common imports\n",
    "import numpy as np\n",
    "\n",
    "import pandas as pd\n",
    "from pandas import Categorical \n",
    "from pandas.plotting import scatter_matrix\n",
    "\n",
    "import seaborn as sns\n",
    "import scipy.stats as stats\n",
    "\n",
    "import os\n",
    "import time\n",
    "from datetime import datetime\n",
    "\n",
    "# to make this notebook's output stable across runs\n",
    "np.random.seed(42)\n",
    "\n",
    "# To plot pretty figures\n",
    "%matplotlib inline\n",
    "import matplotlib as mpl\n",
    "import matplotlib.pyplot as plt\n",
    "mpl.rc('axes', labelsize=14)\n",
    "mpl.rc('xtick', labelsize=12)\n",
    "mpl.rc('ytick', labelsize=12)\n",
    "\n",
    "# Ignore useless warnings (see SciPy issue #5998)\n",
    "import warnings\n",
    "warnings.filterwarnings(action=\"ignore\", message=\"^internal gelsd\")\n",
    "\n",
    "# set up notebook to display multiple output in one cell\n",
    "from IPython.core.interactiveshell import InteractiveShell\n",
    "InteractiveShell.ast_node_interactivity = \"all\"\n",
    "\n",
    "pd.set_option('display.max_columns', None)  \n",
    "pd.set_option('display.expand_frame_repr', False)\n",
    "pd.set_option('max_colwidth', None)"
   ],
   "cell_type": "code",
   "metadata": {},
   "execution_count": 3,
   "outputs": []
  },
  {
   "source": [
    "In this exercise, we will begin to explore computational complexity and explore the differences in various sorting and search algorithms.  We will begin with the base code for Selection Sort as described in Chapter 2 of Grokking Algorithms (Bhargava 2016) which can be found here:  https://github.com/egonSchiele/grokking_algorithms/blob/master/02_selection_sort/python/01_se (https://github.com/egonSchiele/grokking_algorithms/blob/master/02_selection_sort/python/01_selection_so There is Extra Credit for this assignment, so please read it through before starting, as doing the extra work will change some of the outputs.\n"
   ],
   "cell_type": "markdown",
   "metadata": {}
  },
  {
   "source": [
    "1. We will again generate random data for this assignment.  Please set up five data arrays of length\n",
    "5,000, 10,000, 15,000, 20,000, and 25,000 of uniformly distributed random numbers (you may use either integers or floating point).  Ensure that a common random number seed is used to generate each of the arrays.\n"
   ],
   "cell_type": "markdown",
   "metadata": {}
  },
  {
   "cell_type": "code",
   "execution_count": 6,
   "metadata": {
    "tags": []
   },
   "outputs": [
    {
     "output_type": "stream",
     "name": "stdout",
     "text": "sort_time1 is 5.032777786254883 milliseconds\n"
    }
   ],
   "source": [
    "#Random number seed is used to generate each of the arrays \n",
    "np.random.seed(123)\n",
    "\n",
    "#Five arrays, each of length 5000, 10000, 15000, 20000, 25000\n",
    "#containing randomly generated uniformly distributed integers from 1 to 10000\n",
    "#Use numpy package for this\n",
    "#sort random number arrays from smallest to largest \n",
    "\n",
    "start1=time.time()\n",
    "array1 = np.sort(np.random.uniform(low=0,high=10000,size=5000))\n",
    "end1=time.time()\n",
    "\n",
    "start2=time.time()\n",
    "array2 = np.sort(np.random.uniform(0,10000,10000))\n",
    "end2=time.time()\n",
    "\n",
    "start3=time.time()\n",
    "array3 = np.sort(np.random.uniform(0,10000,15000))\n",
    "end3=time.time()\n",
    "\n",
    "start4=time.time()\n",
    "array4 = np.sort(np.random.uniform(0,10000,20000))\n",
    "end4=time.time()\n",
    "\n",
    "start5=time.time()\n",
    "array5 = np.sort(np.random.uniform(0,10000,25000))\n",
    "end5=time.time()\n",
    "\n",
    "#Sort Times\n",
    "sort_time1 = 1000*(end1 - start1)\n",
    "sort_time2 = 1000*(end2 - start2)\n",
    "sort_time3 = 1000*(end3 - start3)\n",
    "sort_time4 = 1000*(end4 - start4)\n",
    "sort_time5 = 1000*(end5 - start5)\n",
    "\n",
    "#Test sort time\n",
    "print('sort_time1 is',sort_time1,'milliseconds')"
   ]
  },
  {
   "source": [
    "2. Execute the base algorithm (Selection Sort) for each of the random number arrays, noting the\n",
    "execution time with each execution. Use one of the timing methods we learned in class. "
   ],
   "cell_type": "markdown",
   "metadata": {}
  },
  {
   "cell_type": "code",
   "execution_count": 5,
   "metadata": {
    "tags": []
   },
   "outputs": [
    {
     "output_type": "stream",
     "name": "stdout",
     "text": "[2, 3, 5, 6, 10]\n"
    }
   ],
   "source": [
    "# Finds the smallest value in an array\n",
    "def findSmallest(arr):\n",
    "  # Stores the smallest value\n",
    "  smallest = arr[0]\n",
    "  # Stores the index of the smallest value\n",
    "  smallest_index = 0\n",
    "  for i in range(1, len(arr)):\n",
    "    if arr[i] < smallest:\n",
    "      smallest_index = i\n",
    "      smallest = arr[i]      \n",
    "  return smallest_index\n",
    "\n",
    "# Sort array\n",
    "def selectionSort(arr):\n",
    "  newArr = []\n",
    "  for i in range(len(arr)):\n",
    "      # Finds the smallest element in the array and adds it to the new array\n",
    "      smallest = findSmallest(arr)\n",
    "      newArr.append(arr.pop(smallest))\n",
    "  return newArr\n",
    "\n",
    "print(selectionSort([5, 3, 6, 2, 10]))\n"
   ]
  },
  {
   "source": [
    "3. Just as in the last assignment, please organize the results of the study into a table showing the size\n",
    "of data array and the time taken to sort the array. Discuss the differences in timing and how they\n",
    "relate to data type and length of array. "
   ],
   "cell_type": "markdown",
   "metadata": {}
  },
  {
   "cell_type": "code",
   "execution_count": null,
   "metadata": {},
   "outputs": [],
   "source": []
  },
  {
   "source": [
    "4. Use Python matplotlib or Seaborn to generate a measure of the size of the data set on the horizontal\n",
    "axis and with execution time in milliseconds on the vertical axis. The plot should show execution time\n",
    "against problem size for each form of the algorithm being tested.\n"
   ],
   "cell_type": "markdown",
   "metadata": {}
  },
  {
   "cell_type": "code",
   "execution_count": null,
   "metadata": {},
   "outputs": [],
   "source": []
  },
  {
   "source": [
    "Prepare an executive summary of your results, referring to the table and figures you have generated. Explain how your results relate to big O notation. Describe your results in language that management can understand. This summary should be included as text paragraphs in the Jupyter notebook. Explain how the algorithm works and why it is a useful to data engineers.\n",
    "Program code should conform to best practices in software development, as described in the coding/software development textbook used in the course.\n",
    "Utilize Git as your version control for software developed for this mini programming assignment.\n"
   ],
   "cell_type": "markdown",
   "metadata": {}
  },
  {
   "source": [
    "**Executive Summary**"
   ],
   "cell_type": "markdown",
   "metadata": {}
  },
  {
   "cell_type": "code",
   "execution_count": null,
   "metadata": {},
   "outputs": [],
   "source": []
  }
 ]
}