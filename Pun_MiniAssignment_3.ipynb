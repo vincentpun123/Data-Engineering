{
 "metadata": {
  "language_info": {
   "codemirror_mode": {
    "name": "ipython",
    "version": 3
   },
   "file_extension": ".py",
   "mimetype": "text/x-python",
   "name": "python",
   "nbconvert_exporter": "python",
   "pygments_lexer": "ipython3",
   "version": "3.8.3-final"
  },
  "orig_nbformat": 2,
  "kernelspec": {
   "name": "Python 3.8.3 64-bit",
   "display_name": "Python 3.8.3 64-bit",
   "metadata": {
    "interpreter": {
     "hash": "082e9a3bcad0a290d0001e938aa60b99250c6c2ef33a923c00b70f9826caf4b7"
    }
   }
  }
 },
 "nbformat": 4,
 "nbformat_minor": 2,
 "cells": [
  {
   "source": [
    "MSDS 432 <Br>\n",
    "Mini Programming Assignment: Implement a Recursive Algorithm<Br>\n",
    "Prepared by Vincent Pun"
   ],
   "cell_type": "markdown",
   "metadata": {}
  },
  {
   "source": [
    "In an effort to standardize our formatting, please make sure that all work on the assignment be completed within Jupyter notebook with separate paragraphs of Python code and text discussions for each part of the assignment, as described here.  The executive summary should be at the end and tie everything together.   Submission may be made with the ipython notebook or an html/pdf export.\n",
    "\n",
    "If your timing method is producing zeros (not granular enough), please find a different one. \n",
    "\n",
    "In this Mini Programming Assignment, we will explore the differences between iteration and recursion.  We will begin with the base code for recursion as described in Chapter 3 of Grokking Algorithms (Bhargava 2016).  https://github.com/egonSchiele/grokking_algorithms/blob/master/03_recursion/python/03_factorial.py"
   ],
   "cell_type": "markdown",
   "metadata": {}
  },
  {
   "cell_type": "code",
   "execution_count": 38,
   "metadata": {},
   "outputs": [],
   "source": [
    "# To support both python 2 and python 3\n",
    "from __future__ import division, print_function, unicode_literals\n",
    "\n",
    "# Common imports\n",
    "import numpy as np\n",
    "\n",
    "import pandas as pd\n",
    "from pandas import Categorical \n",
    "from pandas.plotting import scatter_matrix\n",
    "\n",
    "import seaborn as sns\n",
    "import scipy.stats as stats\n",
    "\n",
    "import os\n",
    "import time\n",
    "from datetime import datetime\n",
    "\n",
    "# to make this notebook's output stable across runs\n",
    "np.random.seed(42)\n",
    "\n",
    "# To plot pretty figures\n",
    "%matplotlib inline\n",
    "import matplotlib as mpl\n",
    "import matplotlib.pyplot as plt\n",
    "mpl.rc('axes', labelsize=14)\n",
    "mpl.rc('xtick', labelsize=12)\n",
    "mpl.rc('ytick', labelsize=12)\n",
    "\n",
    "# Ignore useless warnings (see SciPy issue #5998)\n",
    "import warnings\n",
    "warnings.filterwarnings(action=\"ignore\", message=\"^internal gelsd\")\n",
    "\n",
    "# set up notebook to display multiple output in one cell\n",
    "from IPython.core.interactiveshell import InteractiveShell\n",
    "InteractiveShell.ast_node_interactivity = \"all\"\n",
    "\n",
    "pd.set_option('display.max_columns', None)  \n",
    "pd.set_option('display.expand_frame_repr', False)\n",
    "pd.set_option('max_colwidth', None)"
   ]
  },
  {
   "source": [
    "Set up an array of ten random numbers between 100 and 500 (just one array with 10 numbers).<br>\n",
    "<br>\n",
    "Calculate the factorial of each of the numbers using a simple FOR loop.  Please capture the start/end times and store the results in an array, or linked list, or dictionary.  \n",
    "<br>\n",
    "Calculate the factorial of each of the numbers using recursion.  Please capture the start/end times and store the results in an array, or linked list, or dictionary.<br>\n",
    "<br>\n",
    "Organize the results of the study into a table showing the number, it's factorial, the time to calculate the factorial using recursion, the time to calculate factorial using FOR loop, and the difference between times.<br>\n",
    "<br>\n",
    "Use python matplotlib or seaborn to generate a graph that has number on the horizontal axis and with execution time in milliseconds on the vertical axis. The plot should show execution times of recursion and the loop.<br>\n",
    "<br>\n",
    "Prepare an executive summary of your results, referring to the table and figures you have generated. Explain how your results relate to big O notation. Describe your results in language that management can understand. This summary should be included as text paragraphs in the Jupyter notebook. Explain how the algorithm works and why it is a useful to data engineers.<br>"
   ],
   "cell_type": "markdown",
   "metadata": {}
  },
  {
   "cell_type": "code",
   "execution_count": 74,
   "metadata": {},
   "outputs": [],
   "source": [
    "#Set up Array of ten random numbers between 100 and 500 (just one array with 10 numbers)\n",
    "np.random.seed(123)\n",
    "\n",
    "sys.setrecursionlimit(5000)\n",
    "\n",
    "array = np.random.randint(low=100,high=500,size=10)"
   ]
  },
  {
   "cell_type": "code",
   "execution_count": 75,
   "metadata": {},
   "outputs": [
    {
     "output_type": "execute_result",
     "data": {
      "text/plain": "array([465, 482, 422, 198, 330, 117, 183, 206, 223, 157])"
     },
     "metadata": {},
     "execution_count": 75
    }
   ],
   "source": [
    "array"
   ]
  },
  {
   "cell_type": "code",
   "execution_count": 76,
   "metadata": {
    "tags": []
   },
   "outputs": [
    {
     "output_type": "execute_result",
     "data": {
      "text/plain": "0.6830692291259766"
     },
     "metadata": {},
     "execution_count": 76
    }
   ],
   "source": [
    "#Calculate the factorial of each of the numbers using a simple FOR loop.  Please capture the start/end times and store the results in an array, \n",
    "# or linked list, or dictionary.  \n",
    "\n",
    "start1=time.time()\n",
    "\n",
    "for item in array:\n",
    "    fact = 1\n",
    "    for x in range(1, item+1): \n",
    "        fact = fact * x\n",
    "   \n",
    "end1 = time.time()\n",
    "\n",
    "time_iterative1 = 1000*(end1-start1)\n",
    "\n",
    "time_iterative1\n"
   ]
  },
  {
   "cell_type": "code",
   "execution_count": 83,
   "metadata": {},
   "outputs": [
    {
     "output_type": "execute_result",
     "data": {
      "text/plain": "array([4, 2, 4, 3, 2, 1, 1, 1, 1, 2])"
     },
     "metadata": {},
     "execution_count": 83
    }
   ],
   "source": [
    "a2 = ([1,2,3])\n",
    "array3 = np.random.randint(low=1,high=5,size=10)\n",
    "array3"
   ]
  },
  {
   "cell_type": "code",
   "execution_count": 84,
   "metadata": {
    "tags": []
   },
   "outputs": [
    {
     "output_type": "execute_result",
     "data": {
      "text/plain": "4.442930221557617"
     },
     "metadata": {},
     "execution_count": 84
    }
   ],
   "source": [
    "#Calculate the factorial of each of the numbers USING RECURSION.  Please capture the start/end times and store the results in an array, or linked list, or dictionary.\n",
    "\n",
    "start2=time.time()\n",
    "\n",
    "def fact(x):\n",
    "  if x == 1:\n",
    "    return 1\n",
    "  else:\n",
    "    return x * fact(x-1)\n",
    "\n",
    "for item in array: \n",
    "    recursive = fact(item)\n",
    "\n",
    "end2 = time.time()\n",
    "\n",
    "time_iterative2 = 1000*(end2-start2)\n",
    "\n",
    "time_iterative2\n"
   ]
  },
  {
   "cell_type": "code",
   "execution_count": 63,
   "metadata": {},
   "outputs": [],
   "source": [
    "#Organize the results of the study into a TABLE showing the number, it's factorial, the time to calculate the factorial using recursion, the time to calculate factorial using FOR loop, and the difference between times.\n",
    "\n",
    "#number\n",
    "#factorial\n",
    "#time to calculate factorial\n",
    "#time to calculate FOR loop\n",
    "#difference between factorial and FOR loop"
   ]
  },
  {
   "cell_type": "code",
   "execution_count": 64,
   "metadata": {},
   "outputs": [],
   "source": [
    "#Use python matplotlib or seaborn to generate a graph that has number on the horizontal axis and with execution time in milliseconds on the vertical axis. The plot should show execution times of recursion and the loop.\n",
    "\n"
   ]
  },
  {
   "source": [
    "Prepare an executive summary of your results, referring to the table and figures you have generated. Explain how your results relate to big O notation. Describe your results in language that management can understand. This summary should be included as text paragraphs in the Jupyter notebook. Explain how the algorithm works and why it is a useful to data engineers."
   ],
   "cell_type": "markdown",
   "metadata": {}
  },
  {
   "cell_type": "code",
   "execution_count": null,
   "metadata": {},
   "outputs": [],
   "source": []
  }
 ]
}