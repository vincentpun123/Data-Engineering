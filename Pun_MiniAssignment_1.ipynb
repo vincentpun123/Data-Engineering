{
 "cells": [
  {
   "cell_type": "markdown",
   "metadata": {},
   "source": [
    "**MSDS 432 Mini Assignment 1**<br>\n",
    "<br>\n",
    "**Prepared by Vincent Pun**"
   ]
  },
  {
   "cell_type": "markdown",
   "metadata": {
    "tags": []
   },
   "source": [
    "In this exercise, we will begin to explore computational complexity and explore the differences in various **sorting and search algorithms**.  We will begin with the **base code** for sequential/linear and binary search as described in Chapter 1 of Grokking Algorithms (Bhargava 2016).  \n",
    "\n",
    "Example code for the base algorithm is available in the GitHub site for the textbook.\n"
   ]
  },
  {
   "cell_type": "code",
   "execution_count": 1,
   "metadata": {},
   "outputs": [],
   "source": [
    "# To support both python 2 and python 3\n",
    "from __future__ import division, print_function, unicode_literals\n",
    "\n",
    "# Common imports\n",
    "import numpy as np\n",
    "\n",
    "import pandas as pd\n",
    "from pandas import Categorical \n",
    "from pandas.plotting import scatter_matrix\n",
    "\n",
    "import seaborn as sns\n",
    "import scipy.stats as stats\n",
    "\n",
    "import os\n",
    "import time\n",
    "from datetime import datetime\n",
    "\n",
    "# to make this notebook's output stable across runs\n",
    "np.random.seed(42)\n",
    "\n",
    "# To plot pretty figures\n",
    "%matplotlib inline\n",
    "import matplotlib as mpl\n",
    "import matplotlib.pyplot as plt\n",
    "mpl.rc('axes', labelsize=14)\n",
    "mpl.rc('xtick', labelsize=12)\n",
    "mpl.rc('ytick', labelsize=12)\n",
    "\n",
    "# Ignore useless warnings (see SciPy issue #5998)\n",
    "import warnings\n",
    "warnings.filterwarnings(action=\"ignore\", message=\"^internal gelsd\")\n",
    "\n",
    "# set up notebook to display multiple output in one cell\n",
    "from IPython.core.interactiveshell import InteractiveShell\n",
    "InteractiveShell.ast_node_interactivity = \"all\"\n",
    "\n",
    "pd.set_option('display.max_columns', None)  \n",
    "pd.set_option('display.expand_frame_repr', False)\n",
    "pd.set_option('max_colwidth', None)"
   ]
  },
  {
   "cell_type": "code",
   "execution_count": 2,
   "metadata": {},
   "outputs": [
    {
     "data": {
      "text/plain": [
       "'/Users/vincentpun/Documents/Northwestern/MSDS 432/Module 1/Mini Assignment 1'"
      ]
     },
     "execution_count": 2,
     "metadata": {},
     "output_type": "execute_result"
    }
   ],
   "source": [
    "#Working Directory\n",
    "os.getcwd()"
   ]
  },
  {
   "cell_type": "markdown",
   "metadata": {},
   "source": [
    "To begin, let's generate some random data to work with. Ensure that a common random number seed is used to generate each of the arrays. We will make five arrays, each of length 512, 1024, 2048, 4096, and 8192 containing randomly generated uniformly distributed integers from 1 to 10000.  You may use the numpy package for this.  "
   ]
  },
  {
   "cell_type": "markdown",
   "metadata": {},
   "source": [
    "Sort each of the random number arrays from smallest to largest.  You may use any algorithm to sort the data."
   ]
  },
  {
   "cell_type": "code",
   "execution_count": 3,
   "metadata": {
    "tags": []
   },
   "outputs": [
    {
     "name": "stdout",
     "output_type": "stream",
     "text": [
      "sort_time1 is 0.3647804260253906 milliseconds\n"
     ]
    }
   ],
   "source": [
    "#Random number seed is used to generate each of the arrays \n",
    "np.random.seed(123)\n",
    "\n",
    "#Five arrays, each of length 512, 1024, 2048, 4096, and 8192\n",
    "#containing randomly generated uniformly distributed integers from 1 to 10000\n",
    "#Use numpy package for this\n",
    "#sort random number arrays from smallest to largest \n",
    "\n",
    "start1=time.time()\n",
    "array1 = np.sort(np.random.uniform(low=0,high=10000,size=512))\n",
    "end1=time.time()\n",
    "\n",
    "start2=time.time()\n",
    "array2 = np.sort(np.random.uniform(0,10000,1024))\n",
    "end2=time.time()\n",
    "\n",
    "start3=time.time()\n",
    "array3 = np.sort(np.random.uniform(0,10000,2048))\n",
    "end3=time.time()\n",
    "\n",
    "start4=time.time()\n",
    "array4 = np.sort(np.random.uniform(0,10000,4096))\n",
    "end4=time.time()\n",
    "\n",
    "start5=time.time()\n",
    "array5 = np.sort(np.random.uniform(0,10000,8192))\n",
    "end5=time.time()\n",
    "\n",
    "#Sort Times\n",
    "sort_time1 = 1000*(end1 - start1)\n",
    "sort_time2 = 1000*(end2 - start2)\n",
    "sort_time3 = 1000*(end3 - start3)\n",
    "sort_time4 = 1000*(end4 - start4)\n",
    "sort_time5 = 1000*(end5 - start5)\n",
    "\n",
    "#Test sort time\n",
    "print('sort_time1 is',sort_time1,'milliseconds')\n",
    "\n",
    "\n"
   ]
  },
  {
   "cell_type": "code",
   "execution_count": null,
   "metadata": {},
   "outputs": [],
   "source": []
  },
  {
   "cell_type": "markdown",
   "metadata": {},
   "source": [
    "Execute the base search algorithm (binary search) (from the text and github code) for each of array, \n",
    "**noting the execution time for each array.**  \n",
    "With each execution **use the maximum value of the random number array** as the number for which you are searching."
   ]
  },
  {
   "cell_type": "code",
   "execution_count": 4,
   "metadata": {},
   "outputs": [],
   "source": [
    "#Binary Search Function\n",
    "\n",
    "#code from textbook\n",
    "def search_iterative(list, item):\n",
    "    # low and high keep track of which part of the list you'll search in.\n",
    "    low = 0\n",
    "    high = len(list) - 1\n",
    "\n",
    "    # While you haven't narrowed it down to one element ...\n",
    "    while low <= high:\n",
    "      # ... check the middle element\n",
    "      mid = (low + high) // 2\n",
    "      guess = list[mid]\n",
    "      # Found the item.\n",
    "      if guess == item:\n",
    "        return mid\n",
    "      # The guess was too high.\n",
    "      if guess > item:\n",
    "        high = mid - 1\n",
    "      # The guess was too low.\n",
    "      else:\n",
    "        low = mid + 1\n",
    "\n",
    "    # Item doesn't exist\n",
    "    return None"
   ]
  },
  {
   "cell_type": "code",
   "execution_count": 5,
   "metadata": {},
   "outputs": [
    {
     "data": {
      "text/plain": [
       "511"
      ]
     },
     "execution_count": 5,
     "metadata": {},
     "output_type": "execute_result"
    },
    {
     "data": {
      "text/plain": [
       "1023"
      ]
     },
     "execution_count": 5,
     "metadata": {},
     "output_type": "execute_result"
    },
    {
     "data": {
      "text/plain": [
       "2047"
      ]
     },
     "execution_count": 5,
     "metadata": {},
     "output_type": "execute_result"
    },
    {
     "data": {
      "text/plain": [
       "4095"
      ]
     },
     "execution_count": 5,
     "metadata": {},
     "output_type": "execute_result"
    },
    {
     "data": {
      "text/plain": [
       "8191"
      ]
     },
     "execution_count": 5,
     "metadata": {},
     "output_type": "execute_result"
    },
    {
     "data": {
      "text/plain": [
       "2.271890640258789"
      ]
     },
     "execution_count": 5,
     "metadata": {},
     "output_type": "execute_result"
    },
    {
     "data": {
      "text/plain": [
       "2.122163772583008"
      ]
     },
     "execution_count": 5,
     "metadata": {},
     "output_type": "execute_result"
    },
    {
     "data": {
      "text/plain": [
       "2.591848373413086"
      ]
     },
     "execution_count": 5,
     "metadata": {},
     "output_type": "execute_result"
    },
    {
     "data": {
      "text/plain": [
       "2.9599666595458984"
      ]
     },
     "execution_count": 5,
     "metadata": {},
     "output_type": "execute_result"
    },
    {
     "data": {
      "text/plain": [
       "3.6988258361816406"
      ]
     },
     "execution_count": 5,
     "metadata": {},
     "output_type": "execute_result"
    }
   ],
   "source": [
    "\n",
    "start1=time.time()\n",
    "search_iterative(array1,max(array1))\n",
    "end1=time.time()\n",
    "\n",
    "start2=time.time()\n",
    "search_iterative(array2,max(array2))\n",
    "end2=time.time()\n",
    "\n",
    "start3=time.time()\n",
    "search_iterative(array3,max(array3))\n",
    "end3=time.time()\n",
    "\n",
    "start4=time.time()\n",
    "search_iterative(array4,max(array4))\n",
    "end4=time.time()\n",
    "\n",
    "start5=time.time()\n",
    "search_iterative(array5,max(array5))\n",
    "end5=time.time()\n",
    "\n",
    "binary_time1=1000*(end1-start1)\n",
    "binary_time2=1000*(end2-start2)\n",
    "binary_time3=1000*(end3-start3)\n",
    "binary_time4=1000*(end4-start4)\n",
    "binary_time5=1000*(end5-start5)\n",
    "\n",
    "#Binary Search Times\n",
    "binary_time1\n",
    "binary_time2\n",
    "binary_time3\n",
    "binary_time4\n",
    "binary_time5"
   ]
  },
  {
   "cell_type": "code",
   "execution_count": null,
   "metadata": {},
   "outputs": [],
   "source": []
  },
  {
   "cell_type": "markdown",
   "metadata": {},
   "source": [
    "Now we will compare this to a linear search.  Use python (perhaps with the Pandas package) to prepare a five-column table containing the following columns with all times in milliseconds:\n",
    "\n",
    "-length of the random number array<br>\n",
    "-sort time<br>\n",
    "-linear search time for the sorted array<br>\n",
    "-binary search time for the sorted array<br>\n",
    "-binary search plus sort times<br>\n",
    "\n"
   ]
  },
  {
   "cell_type": "code",
   "execution_count": 6,
   "metadata": {},
   "outputs": [],
   "source": [
    "#Linear Search Function\n",
    "def linear_search(list, item):\n",
    "    for x in range(0,len(list)):\n",
    "        if list[x] == item:\n",
    "            return x\n",
    "    return None"
   ]
  },
  {
   "cell_type": "code",
   "execution_count": 7,
   "metadata": {},
   "outputs": [
    {
     "data": {
      "text/plain": [
       "511"
      ]
     },
     "execution_count": 7,
     "metadata": {},
     "output_type": "execute_result"
    },
    {
     "data": {
      "text/plain": [
       "1023"
      ]
     },
     "execution_count": 7,
     "metadata": {},
     "output_type": "execute_result"
    },
    {
     "data": {
      "text/plain": [
       "2047"
      ]
     },
     "execution_count": 7,
     "metadata": {},
     "output_type": "execute_result"
    },
    {
     "data": {
      "text/plain": [
       "4095"
      ]
     },
     "execution_count": 7,
     "metadata": {},
     "output_type": "execute_result"
    },
    {
     "data": {
      "text/plain": [
       "8191"
      ]
     },
     "execution_count": 7,
     "metadata": {},
     "output_type": "execute_result"
    },
    {
     "data": {
      "text/plain": [
       "2.6869773864746094"
      ]
     },
     "execution_count": 7,
     "metadata": {},
     "output_type": "execute_result"
    },
    {
     "data": {
      "text/plain": [
       "3.072023391723633"
      ]
     },
     "execution_count": 7,
     "metadata": {},
     "output_type": "execute_result"
    },
    {
     "data": {
      "text/plain": [
       "3.376007080078125"
      ]
     },
     "execution_count": 7,
     "metadata": {},
     "output_type": "execute_result"
    },
    {
     "data": {
      "text/plain": [
       "3.802061080932617"
      ]
     },
     "execution_count": 7,
     "metadata": {},
     "output_type": "execute_result"
    },
    {
     "data": {
      "text/plain": [
       "5.958080291748047"
      ]
     },
     "execution_count": 7,
     "metadata": {},
     "output_type": "execute_result"
    }
   ],
   "source": [
    "start1=time.time()\n",
    "linear_search(array1,max(array1))\n",
    "end1=time.time()\n",
    "\n",
    "start2=time.time()\n",
    "linear_search(array2,max(array2))\n",
    "end2=time.time()\n",
    "\n",
    "start3=time.time()\n",
    "linear_search(array3,max(array3))\n",
    "end3=time.time()\n",
    "\n",
    "start4=time.time()\n",
    "linear_search(array4,max(array4))\n",
    "end4=time.time()\n",
    "\n",
    "start5=time.time()\n",
    "linear_search(array5,max(array5))\n",
    "end5=time.time()\n",
    "\n",
    "linear_time1=1000*(end1-start1)\n",
    "linear_time2=1000*(end2-start2)\n",
    "linear_time3=1000*(end3-start3)\n",
    "linear_time4=1000*(end4-start4)\n",
    "linear_time5=1000*(end5-start5)\n",
    "\n",
    "#Linear Search Times (End-Start)\n",
    "linear_time1\n",
    "linear_time2\n",
    "linear_time3\n",
    "linear_time4\n",
    "linear_time5"
   ]
  },
  {
   "cell_type": "code",
   "execution_count": 8,
   "metadata": {},
   "outputs": [],
   "source": [
    "#Binary Search Plus Sort Times\n",
    "combine_time1 = binary_time1 + sort_time1\n",
    "combine_time2 = binary_time2 + sort_time2\n",
    "combine_time3 = binary_time3 + sort_time3\n",
    "combine_time4 = binary_time4 + sort_time4\n",
    "combine_time5 = binary_time5 + sort_time5"
   ]
  },
  {
   "cell_type": "code",
   "execution_count": 9,
   "metadata": {},
   "outputs": [],
   "source": [
    "#stuffing for the panda \n",
    "length = [512, 1024, 2048, 4096, 8192]\n",
    "sort_time_list = [sort_time1,sort_time2,sort_time3,sort_time4,sort_time5]\n",
    "linear_search_list = [linear_time1,linear_time2,linear_time3,linear_time4,linear_time5]\n",
    "binary_search_list = [binary_time1,binary_time2,binary_time3,binary_time4,binary_time5]\n",
    "combine_list = [combine_time1,combine_time2,combine_time3,combine_time4,combine_time5]"
   ]
  },
  {
   "cell_type": "code",
   "execution_count": 10,
   "metadata": {},
   "outputs": [
    {
     "data": {
      "text/html": [
       "<div>\n",
       "<style scoped>\n",
       "    .dataframe tbody tr th:only-of-type {\n",
       "        vertical-align: middle;\n",
       "    }\n",
       "\n",
       "    .dataframe tbody tr th {\n",
       "        vertical-align: top;\n",
       "    }\n",
       "\n",
       "    .dataframe thead th {\n",
       "        text-align: right;\n",
       "    }\n",
       "</style>\n",
       "<table border=\"1\" class=\"dataframe\">\n",
       "  <thead>\n",
       "    <tr style=\"text-align: right;\">\n",
       "      <th></th>\n",
       "      <th>Length</th>\n",
       "      <th>Sort Time</th>\n",
       "      <th>Linear Search Time</th>\n",
       "      <th>Binary Search Time</th>\n",
       "      <th>Binary Search Plus Sort Times</th>\n",
       "    </tr>\n",
       "  </thead>\n",
       "  <tbody>\n",
       "    <tr>\n",
       "      <th>0</th>\n",
       "      <td>512</td>\n",
       "      <td>0.364780</td>\n",
       "      <td>2.686977</td>\n",
       "      <td>2.271891</td>\n",
       "      <td>2.636671</td>\n",
       "    </tr>\n",
       "    <tr>\n",
       "      <th>1</th>\n",
       "      <td>1024</td>\n",
       "      <td>0.220060</td>\n",
       "      <td>3.072023</td>\n",
       "      <td>2.122164</td>\n",
       "      <td>2.342224</td>\n",
       "    </tr>\n",
       "    <tr>\n",
       "      <th>2</th>\n",
       "      <td>2048</td>\n",
       "      <td>0.313282</td>\n",
       "      <td>3.376007</td>\n",
       "      <td>2.591848</td>\n",
       "      <td>2.905130</td>\n",
       "    </tr>\n",
       "    <tr>\n",
       "      <th>3</th>\n",
       "      <td>4096</td>\n",
       "      <td>0.357151</td>\n",
       "      <td>3.802061</td>\n",
       "      <td>2.959967</td>\n",
       "      <td>3.317118</td>\n",
       "    </tr>\n",
       "    <tr>\n",
       "      <th>4</th>\n",
       "      <td>8192</td>\n",
       "      <td>0.612974</td>\n",
       "      <td>5.958080</td>\n",
       "      <td>3.698826</td>\n",
       "      <td>4.311800</td>\n",
       "    </tr>\n",
       "  </tbody>\n",
       "</table>\n",
       "</div>"
      ],
      "text/plain": [
       "   Length  Sort Time  Linear Search Time  Binary Search Time  Binary Search Plus Sort Times\n",
       "0     512   0.364780            2.686977            2.271891                       2.636671\n",
       "1    1024   0.220060            3.072023            2.122164                       2.342224\n",
       "2    2048   0.313282            3.376007            2.591848                       2.905130\n",
       "3    4096   0.357151            3.802061            2.959967                       3.317118\n",
       "4    8192   0.612974            5.958080            3.698826                       4.311800"
      ]
     },
     "execution_count": 10,
     "metadata": {},
     "output_type": "execute_result"
    }
   ],
   "source": [
    "#Use python (perhaps with the Pandas package) to prepare a five-column table\n",
    "\n",
    "#length of the random number array\n",
    "#sort time\n",
    "#linear search time for the sorted array\n",
    "#binary search time for the sorted array\n",
    "#binary search plus sort times\n",
    "\n",
    "table = pd.DataFrame(list(zip(length,sort_time_list,linear_search_list,binary_search_list,combine_list)),columns=['Length','Sort Time','Linear Search Time','Binary Search Time','Binary Search Plus Sort Times'])\n",
    "\n",
    "table"
   ]
  },
  {
   "cell_type": "code",
   "execution_count": null,
   "metadata": {},
   "outputs": [],
   "source": []
  },
  {
   "cell_type": "markdown",
   "metadata": {},
   "source": [
    "Use python matplotlib or Seaborn to generate a plot with the size of the random number array on the horizontal axis and with execution time in milliseconds on the vertical axis. The plot should show execution time against array size for **linear and binary search algorithms** alone.  Discuss the results."
   ]
  },
  {
   "cell_type": "code",
   "execution_count": 12,
   "metadata": {},
   "outputs": [
    {
     "data": {
      "text/html": [
       "<div>\n",
       "<style scoped>\n",
       "    .dataframe tbody tr th:only-of-type {\n",
       "        vertical-align: middle;\n",
       "    }\n",
       "\n",
       "    .dataframe tbody tr th {\n",
       "        vertical-align: top;\n",
       "    }\n",
       "\n",
       "    .dataframe thead th {\n",
       "        text-align: right;\n",
       "    }\n",
       "</style>\n",
       "<table border=\"1\" class=\"dataframe\">\n",
       "  <thead>\n",
       "    <tr style=\"text-align: right;\">\n",
       "      <th></th>\n",
       "      <th>Length</th>\n",
       "      <th>Linear Search Time</th>\n",
       "      <th>Binary Search Time</th>\n",
       "    </tr>\n",
       "  </thead>\n",
       "  <tbody>\n",
       "    <tr>\n",
       "      <th>0</th>\n",
       "      <td>512</td>\n",
       "      <td>2.686977</td>\n",
       "      <td>2.271891</td>\n",
       "    </tr>\n",
       "    <tr>\n",
       "      <th>1</th>\n",
       "      <td>1024</td>\n",
       "      <td>3.072023</td>\n",
       "      <td>2.122164</td>\n",
       "    </tr>\n",
       "    <tr>\n",
       "      <th>2</th>\n",
       "      <td>2048</td>\n",
       "      <td>3.376007</td>\n",
       "      <td>2.591848</td>\n",
       "    </tr>\n",
       "    <tr>\n",
       "      <th>3</th>\n",
       "      <td>4096</td>\n",
       "      <td>3.802061</td>\n",
       "      <td>2.959967</td>\n",
       "    </tr>\n",
       "    <tr>\n",
       "      <th>4</th>\n",
       "      <td>8192</td>\n",
       "      <td>5.958080</td>\n",
       "      <td>3.698826</td>\n",
       "    </tr>\n",
       "  </tbody>\n",
       "</table>\n",
       "</div>"
      ],
      "text/plain": [
       "   Length  Linear Search Time  Binary Search Time\n",
       "0     512            2.686977            2.271891\n",
       "1    1024            3.072023            2.122164\n",
       "2    2048            3.376007            2.591848\n",
       "3    4096            3.802061            2.959967\n",
       "4    8192            5.958080            3.698826"
      ]
     },
     "execution_count": 12,
     "metadata": {},
     "output_type": "execute_result"
    }
   ],
   "source": [
    "#Linear and Binary Search Times (Length is index)\n",
    "df_plot1 = table[['Length','Linear Search Time','Binary Search Time']]\n",
    "df_plot1"
   ]
  },
  {
   "cell_type": "code",
   "execution_count": 14,
   "metadata": {
    "scrolled": false
   },
   "outputs": [
    {
     "data": {
      "text/plain": [
       "Text(0.5, 1.0, 'Linear and Binary Times')"
      ]
     },
     "execution_count": 14,
     "metadata": {},
     "output_type": "execute_result"
    },
    {
     "data": {
      "text/plain": [
       "[<matplotlib.lines.Line2D at 0x7f9d390aedc0>]"
      ]
     },
     "execution_count": 14,
     "metadata": {},
     "output_type": "execute_result"
    },
    {
     "data": {
      "text/plain": [
       "[<matplotlib.lines.Line2D at 0x7f9d390be1c0>]"
      ]
     },
     "execution_count": 14,
     "metadata": {},
     "output_type": "execute_result"
    },
    {
     "data": {
      "text/plain": [
       "([<matplotlib.axis.XTick at 0x7f9d390259a0>,\n",
       "  <matplotlib.axis.XTick at 0x7f9d39025970>,\n",
       "  <matplotlib.axis.XTick at 0x7f9d390215b0>,\n",
       "  <matplotlib.axis.XTick at 0x7f9d390be970>,\n",
       "  <matplotlib.axis.XTick at 0x7f9d390bee80>],\n",
       " [Text(0, 0, '512'),\n",
       "  Text(0, 0, '1024'),\n",
       "  Text(0, 0, '2048'),\n",
       "  Text(0, 0, '4096'),\n",
       "  Text(0, 0, '8192')])"
      ]
     },
     "execution_count": 14,
     "metadata": {},
     "output_type": "execute_result"
    },
    {
     "data": {
      "text/plain": [
       "Text(0.5, 0, 'Array Length')"
      ]
     },
     "execution_count": 14,
     "metadata": {},
     "output_type": "execute_result"
    },
    {
     "data": {
      "text/plain": [
       "Text(0, 0.5, 'Time (milliseconds)')"
      ]
     },
     "execution_count": 14,
     "metadata": {},
     "output_type": "execute_result"
    },
    {
     "data": {
      "text/plain": [
       "<matplotlib.legend.Legend at 0x7f9d390aec70>"
      ]
     },
     "execution_count": 14,
     "metadata": {},
     "output_type": "execute_result"
    },
    {
     "data": {
      "image/png": "[encoded data removed]",
      "text/plain": [
       "<Figure size 432x288 with 1 Axes>"
      ]
     },
     "metadata": {},
     "output_type": "display_data"
    }
   ],
   "source": [
    "#Matplotlib\n",
    "plt.title('Linear and Binary Times')\n",
    "plt.style.use('ggplot')\n",
    "#data\n",
    "plt.plot(df_plot1['Linear Search Time'])\n",
    "plt.plot(df_plot1['Binary Search Time'])\n",
    "\n",
    "#X Y axis and labels\n",
    "plt.xticks(df_plot1.index,df_plot1['Length'].values)\n",
    "plt.xlabel('Array Length')\n",
    "plt.ylabel('Time (milliseconds)')\n",
    "\n",
    "#legend\n",
    "plt.legend(['Linear','Binary'],loc='best')\n"
   ]
  },
  {
   "cell_type": "code",
   "execution_count": null,
   "metadata": {},
   "outputs": [],
   "source": []
  },
  {
   "cell_type": "markdown",
   "metadata": {},
   "source": [
    "Use Python matplotlib or Seaborn to generate a measure of the size of the data set on the horizontal axis and with execution time in milliseconds on the vertical axis. The plot should show execution time against array size for each form of the algorithm being tested (last four columns of the table).  Discuss the results."
   ]
  },
  {
   "cell_type": "code",
   "execution_count": 15,
   "metadata": {},
   "outputs": [
    {
     "data": {
      "text/plain": [
       "Text(0.5, 1.0, 'Array vs Search Algorithm Times')"
      ]
     },
     "execution_count": 15,
     "metadata": {},
     "output_type": "execute_result"
    },
    {
     "data": {
      "text/plain": [
       "[<matplotlib.lines.Line2D at 0x7f9d3911c940>]"
      ]
     },
     "execution_count": 15,
     "metadata": {},
     "output_type": "execute_result"
    },
    {
     "data": {
      "text/plain": [
       "[<matplotlib.lines.Line2D at 0x7f9d3911cd60>]"
      ]
     },
     "execution_count": 15,
     "metadata": {},
     "output_type": "execute_result"
    },
    {
     "data": {
      "text/plain": [
       "[<matplotlib.lines.Line2D at 0x7f9d3912b0d0>]"
      ]
     },
     "execution_count": 15,
     "metadata": {},
     "output_type": "execute_result"
    },
    {
     "data": {
      "text/plain": [
       "[<matplotlib.lines.Line2D at 0x7f9d3912b340>]"
      ]
     },
     "execution_count": 15,
     "metadata": {},
     "output_type": "execute_result"
    },
    {
     "data": {
      "text/plain": [
       "([<matplotlib.axis.XTick at 0x7f9d390ff460>,\n",
       "  <matplotlib.axis.XTick at 0x7f9d390ff430>,\n",
       "  <matplotlib.axis.XTick at 0x7f9d390fa100>,\n",
       "  <matplotlib.axis.XTick at 0x7f9d3912bc10>,\n",
       "  <matplotlib.axis.XTick at 0x7f9d3919d160>],\n",
       " [Text(0, 0, '512'),\n",
       "  Text(0, 0, '1024'),\n",
       "  Text(0, 0, '2048'),\n",
       "  Text(0, 0, '4096'),\n",
       "  Text(0, 0, '8192')])"
      ]
     },
     "execution_count": 15,
     "metadata": {},
     "output_type": "execute_result"
    },
    {
     "data": {
      "text/plain": [
       "Text(0.5, 0, 'Array Length')"
      ]
     },
     "execution_count": 15,
     "metadata": {},
     "output_type": "execute_result"
    },
    {
     "data": {
      "text/plain": [
       "Text(0, 0.5, 'Time (milliseconds)')"
      ]
     },
     "execution_count": 15,
     "metadata": {},
     "output_type": "execute_result"
    },
    {
     "data": {
      "text/plain": [
       "<matplotlib.legend.Legend at 0x7f9d3912b6a0>"
      ]
     },
     "execution_count": 15,
     "metadata": {},
     "output_type": "execute_result"
    },
    {
     "data": {
      "image/png": "[encoded data removed]",
      "text/plain": [
       "<Figure size 432x288 with 1 Axes>"
      ]
     },
     "metadata": {},
     "output_type": "display_data"
    }
   ],
   "source": [
    "#Matplotlib\n",
    "plt.title('Array vs Search Algorithm Times')\n",
    "plt.style.use('ggplot')\n",
    "#execution time against array size for each form of algorithm being tested (last four columns of table)\n",
    "plt.plot(table['Sort Time'])\n",
    "plt.plot(table['Linear Search Time'])\n",
    "plt.plot(table['Binary Search Time'])\n",
    "plt.plot(table['Binary Search Plus Sort Times'])\n",
    "\n",
    "#X Y axis and labels\n",
    "\n",
    "plt.xticks(table.index,table['Length'].values)\n",
    "plt.xlabel('Array Length')\n",
    "plt.ylabel('Time (milliseconds)')\n",
    "\n",
    "#legend\n",
    "plt.legend(['Sort Time','Linear Search Time','Binary Search Time','Binary Search Plus Sort Times'],loc='best')"
   ]
  },
  {
   "cell_type": "code",
   "execution_count": null,
   "metadata": {},
   "outputs": [],
   "source": []
  },
  {
   "cell_type": "markdown",
   "metadata": {},
   "source": [
    "Prepare an executive summary of your results, referring to the table and figures you have generated. Explain how your results relate to big O notation. Describe your results in language that management can understand. This summary should be included as text paragraphs in the Jupyter notebook. Explain how the algorithm works and why it is a useful to data engineers.\n",
    "\n",
    "Program code should conform to best practices in software development, as described in the coding/software development textbook used in the course.\n",
    "\n",
    "Set up a personal computer-based Git repository (or private repository on Github) for your work with algorithms this term. Beginning with this week's mini programming assignment, utilize Git as you work on software development."
   ]
  },
  {
   "cell_type": "code",
   "execution_count": null,
   "metadata": {},
   "outputs": [],
   "source": []
  },
  {
   "cell_type": "markdown",
   "metadata": {},
   "source": [
    "**Executive Summary**<br>\n",
    "<br>\n",
    "In this assignment, we compared execution times of binary and linear search algorithms. The linear search algorithm is a  To conduct this comparison, we looked at the largest numbers in each instance and how many operations it would take for the algorithm to complete, which is known as the Big O notation. <Br>\n",
    "<br>\n",
    "Given that the linear algorithm begins its search at zero and makes its way to the largest number per group of numbers (our five random arrays), it clearly underperforms in relation to the binary search algorithm that would narrow the possible outcomes by half after each guess. As the length of the arrays increased, the run times grew at very different speeds, and it was clear that the binary search would remain a feasible option even at array lengths larger than what we tested. <br>\n",
    "<br>\n",
    "While testing the maximum number per group may have been disadvantageous for the linear search algorithm (it would have beaten the binary algorithm if we were looking for the first element), we learn that algorithms should always assume the worst case scenario. Thus, we can conclude that the binary search algorithm is more reliable in most cases, and data engineers should prefer it over a brute force method such as the linear search. \n",
    "\n"
   ]
  }
 ],
 "metadata": {
  "kernelspec": {
   "display_name": "Python 3.8.3 64-bit",
   "language": "python",
   "name": "python38364bit28c7afb0fc794b32845c6356447d60eb"
  },
  "language_info": {
   "codemirror_mode": {
    "name": "ipython",
    "version": 3
   },
   "file_extension": ".py",
   "mimetype": "text/x-python",
   "name": "python",
   "nbconvert_exporter": "python",
   "pygments_lexer": "ipython3",
   "version": "3.8.3"
  }
 },
 "nbformat": 4,
 "nbformat_minor": 2
}
